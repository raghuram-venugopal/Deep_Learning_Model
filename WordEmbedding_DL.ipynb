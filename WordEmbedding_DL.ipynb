{
 "cells": [
  {
   "cell_type": "code",
   "execution_count": 1,
   "id": "39dffe97",
   "metadata": {},
   "outputs": [],
   "source": [
    "from tensorflow.keras.preprocessing.text import one_hot"
   ]
  },
  {
   "cell_type": "code",
   "execution_count": 3,
   "id": "7f95ac71",
   "metadata": {},
   "outputs": [],
   "source": [
    "### sentences\n",
    "sentences=[  'the glass of milk',\n",
    "     'the glass of juice',\n",
    "     'the cup of tea',\n",
    "    'I am a good boy',\n",
    "     'I am a good developer',\n",
    "     'understand the meaning of words',\n",
    "     'your videos are good',]"
   ]
  },
  {
   "cell_type": "code",
   "execution_count": 4,
   "id": "6c2d454f",
   "metadata": {},
   "outputs": [
    {
     "data": {
      "text/plain": [
       "['the glass of milk',\n",
       " 'the glass of juice',\n",
       " 'the cup of tea',\n",
       " 'I am a good boy',\n",
       " 'I am a good developer',\n",
       " 'understand the meaning of words',\n",
       " 'your videos are good']"
      ]
     },
     "execution_count": 4,
     "metadata": {},
     "output_type": "execute_result"
    }
   ],
   "source": [
    "sentences"
   ]
  },
  {
   "cell_type": "code",
   "execution_count": 5,
   "id": "ebc1e054",
   "metadata": {},
   "outputs": [],
   "source": [
    "## Vocabulary size\n",
    "voc_size=10000"
   ]
  },
  {
   "cell_type": "code",
   "execution_count": 8,
   "id": "58231e0b",
   "metadata": {},
   "outputs": [
    {
     "name": "stdout",
     "output_type": "stream",
     "text": [
      "[[6841, 9671, 4244, 7740], [6841, 9671, 4244, 1638], [6841, 9849, 4244, 1250], [9785, 2755, 1292, 7196, 6439], [9785, 2755, 1292, 7196, 6474], [2273, 6841, 6086, 4244, 2469], [3789, 8082, 2982, 7196]]\n"
     ]
    }
   ],
   "source": [
    "#One Hot Representation\n",
    "onehot_repr=[one_hot(words,voc_size)for words in sentences] \n",
    "print(onehot_repr)"
   ]
  },
  {
   "cell_type": "markdown",
   "id": "8652b196",
   "metadata": {},
   "source": [
    "# Word Embedding Represntation"
   ]
  },
  {
   "cell_type": "code",
   "execution_count": 7,
   "id": "a5d57a3b",
   "metadata": {},
   "outputs": [],
   "source": [
    "from tensorflow.keras.layers import Embedding\n",
    "from tensorflow.keras.preprocessing.sequence import pad_sequences\n",
    "from tensorflow.keras.models import Sequential"
   ]
  },
  {
   "cell_type": "code",
   "execution_count": 9,
   "id": "ab775a88",
   "metadata": {},
   "outputs": [],
   "source": [
    "import numpy as np"
   ]
  },
  {
   "cell_type": "code",
   "execution_count": 10,
   "id": "921f048f",
   "metadata": {},
   "outputs": [
    {
     "name": "stdout",
     "output_type": "stream",
     "text": [
      "[[   0    0    0    0 6841 9671 4244 7740]\n",
      " [   0    0    0    0 6841 9671 4244 1638]\n",
      " [   0    0    0    0 6841 9849 4244 1250]\n",
      " [   0    0    0 9785 2755 1292 7196 6439]\n",
      " [   0    0    0 9785 2755 1292 7196 6474]\n",
      " [   0    0    0 2273 6841 6086 4244 2469]\n",
      " [   0    0    0    0 3789 8082 2982 7196]]\n"
     ]
    }
   ],
   "source": [
    "sent_length=8\n",
    "embedded_docs=pad_sequences(onehot_repr,padding='pre',maxlen=sent_length)\n",
    "print(embedded_docs)\n",
    "\n",
    "# Zeros would get padded before each sentence with the \"pre\" against the sentance length"
   ]
  },
  {
   "cell_type": "code",
   "execution_count": 11,
   "id": "4a0a849c",
   "metadata": {},
   "outputs": [],
   "source": [
    "# 10 Dimesnsions, how many feature representations that we have to go ahead with the model.\n",
    "# But maximum what we have in this example is 5\n",
    "dim=10\n",
    "\n",
    "model=Sequential()\n",
    "model.add(Embedding(voc_size,dim,input_length=sent_length))\n",
    "model.compile('adam','mse')"
   ]
  },
  {
   "cell_type": "code",
   "execution_count": 12,
   "id": "4dfbf603",
   "metadata": {},
   "outputs": [
    {
     "name": "stdout",
     "output_type": "stream",
     "text": [
      "Model: \"sequential\"\n",
      "_________________________________________________________________\n",
      "Layer (type)                 Output Shape              Param #   \n",
      "=================================================================\n",
      "embedding (Embedding)        (None, 8, 10)             100000    \n",
      "=================================================================\n",
      "Total params: 100,000\n",
      "Trainable params: 100,000\n",
      "Non-trainable params: 0\n",
      "_________________________________________________________________\n"
     ]
    }
   ],
   "source": [
    "model.summary()"
   ]
  },
  {
   "cell_type": "code",
   "execution_count": 13,
   "id": "ebd5caaf",
   "metadata": {},
   "outputs": [
    {
     "data": {
      "text/plain": [
       "array([   0,    0,    0,    0, 6841, 9671, 4244, 7740])"
      ]
     },
     "execution_count": 13,
     "metadata": {},
     "output_type": "execute_result"
    }
   ],
   "source": [
    "embedded_docs[0]"
   ]
  },
  {
   "cell_type": "code",
   "execution_count": 15,
   "id": "8c4c03ec",
   "metadata": {},
   "outputs": [
    {
     "name": "stdout",
     "output_type": "stream",
     "text": [
      "[[ 0.01692558  0.02958528 -0.04168874 -0.03590534  0.00576282 -0.04427169\n",
      "   0.00328482  0.00748748  0.04434054  0.0380713 ]\n",
      " [ 0.01692558  0.02958528 -0.04168874 -0.03590534  0.00576282 -0.04427169\n",
      "   0.00328482  0.00748748  0.04434054  0.0380713 ]\n",
      " [ 0.01692558  0.02958528 -0.04168874 -0.03590534  0.00576282 -0.04427169\n",
      "   0.00328482  0.00748748  0.04434054  0.0380713 ]\n",
      " [ 0.01692558  0.02958528 -0.04168874 -0.03590534  0.00576282 -0.04427169\n",
      "   0.00328482  0.00748748  0.04434054  0.0380713 ]\n",
      " [ 0.02599872 -0.00915391  0.0349955  -0.01730018 -0.00505114 -0.02712944\n",
      "   0.00281264 -0.01819197 -0.01113494 -0.04857565]\n",
      " [-0.02851652  0.04116266 -0.03203435  0.04264292  0.04125823 -0.00943381\n",
      "   0.01272911 -0.00126464 -0.01307512 -0.0094    ]\n",
      " [ 0.03204546 -0.01215342 -0.04241891  0.01301033  0.00972012 -0.00925792\n",
      "  -0.00666637 -0.00440861 -0.02554154 -0.01243697]\n",
      " [-0.02644029  0.01865442  0.04388313  0.04163868 -0.01599318  0.02246347\n",
      "   0.01227482 -0.02176795  0.04111122  0.03052277]]\n"
     ]
    }
   ],
   "source": [
    "# Each index value above is converted into 10 dimensilnal vector\n",
    "print(model.predict(embedded_docs)[0])"
   ]
  }
 ],
 "metadata": {
  "kernelspec": {
   "display_name": "Python 3",
   "language": "python",
   "name": "python3"
  },
  "language_info": {
   "codemirror_mode": {
    "name": "ipython",
    "version": 3
   },
   "file_extension": ".py",
   "mimetype": "text/x-python",
   "name": "python",
   "nbconvert_exporter": "python",
   "pygments_lexer": "ipython3",
   "version": "3.8.8"
  }
 },
 "nbformat": 4,
 "nbformat_minor": 5
}
